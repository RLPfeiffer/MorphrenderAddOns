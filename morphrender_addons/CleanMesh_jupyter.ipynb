{
 "cells": [
  {
   "cell_type": "code",
   "execution_count": 1,
   "metadata": {
    "pycharm": {
     "name": "#%%\n"
    }
   },
   "outputs": [
    {
     "name": "stdout",
     "output_type": "stream",
     "text": [
      "Requirement already satisfied: pymeshlab in c:\\python310\\lib\\site-packages (2022.2.post2)\n",
      "Requirement already satisfied: numpy in c:\\python310\\lib\\site-packages (from pymeshlab) (1.22.3)\n"
     ]
    },
    {
     "name": "stderr",
     "output_type": "stream",
     "text": [
      "WARNING: Ignoring invalid distribution -illow (c:\\python310\\lib\\site-packages)\n",
      "WARNING: Ignoring invalid distribution -illow (c:\\python310\\lib\\site-packages)\n",
      "WARNING: Ignoring invalid distribution -illow (c:\\python310\\lib\\site-packages)\n",
      "WARNING: Ignoring invalid distribution -illow (c:\\python310\\lib\\site-packages)\n",
      "WARNING: Ignoring invalid distribution -illow (c:\\python310\\lib\\site-packages)\n",
      "WARNING: Ignoring invalid distribution -illow (c:\\python310\\lib\\site-packages)\n",
      "\n",
      "[notice] A new release of pip available: 22.2.2 -> 23.0\n",
      "[notice] To update, run: python.exe -m pip install --upgrade pip\n"
     ]
    }
   ],
   "source": [
    "import sys\n",
    "!{sys.executable} -m pip install pymeshlab"
   ]
  },
  {
   "cell_type": "code",
   "execution_count": 2,
   "metadata": {
    "pycharm": {
     "name": "#%%\n"
    }
   },
   "outputs": [],
   "source": [
    "import pymeshlab\n",
    "import os\n",
    "ms = pymeshlab.MeshSet()"
   ]
  },
  {
   "cell_type": "code",
   "execution_count": 3,
   "metadata": {
    "pycharm": {
     "name": "#%%\n"
    }
   },
   "outputs": [
    {
     "data": {
      "text/plain": [
       "['D:\\\\Documents\\\\Cell_DAEs\\\\MorphrenderFiles\\\\RC1\\\\8886_Partners\\\\Morphology-125981.dae',\n",
       " 'D:\\\\Documents\\\\Cell_DAEs\\\\MorphrenderFiles\\\\RC1\\\\8886_Partners\\\\Morphology-166.dae',\n",
       " 'D:\\\\Documents\\\\Cell_DAEs\\\\MorphrenderFiles\\\\RC1\\\\8886_Partners\\\\Morphology-39696.dae',\n",
       " 'D:\\\\Documents\\\\Cell_DAEs\\\\MorphrenderFiles\\\\RC1\\\\8886_Partners\\\\Morphology-39706.dae']"
      ]
     },
     "execution_count": 3,
     "metadata": {},
     "output_type": "execute_result"
    }
   ],
   "source": [
    "\n",
    "importDirectory = 'D:\\Documents\\Cell_DAEs\\MorphrenderFiles\\RC1\\8886_Partners'\n",
    "exportDirectory = 'D:\\Documents\\Cell_DAEs\\MeshlabExports\\RC1\\8886_Partners'\n",
    "files=[]\n",
    " \n",
    "for filename in os.listdir(importDirectory):\n",
    "    f = os.path.join(importDirectory, filename)\n",
    "    if filename.startswith('Morphology') and filename.endswith('.dae'):\n",
    "        files.append(f)\n",
    "\n",
    "files\n"
   ]
  },
  {
   "cell_type": "code",
   "execution_count": 4,
   "metadata": {
    "pycharm": {
     "name": "#%%\n"
    }
   },
   "outputs": [],
   "source": [
    "for f in files:\n",
    "    if not os.path.exists(exportDirectory):\n",
    "        os.makedirs(exportDirectory)\n",
    "    ms.load_new_mesh(f)\n",
    "    ms.generate_surface_reconstruction_screened_poisson(depth=10, preclean = True)\n",
    "    ms.save_current_mesh(os.path.join(exportDirectory, os.path.basename(f)))\n",
    "    \n",
    "    \n"
   ]
  }
 ],
 "metadata": {
  "kernelspec": {
   "display_name": "Python 3",
   "language": "python",
   "name": "python3"
  },
  "language_info": {
   "codemirror_mode": {
    "name": "ipython",
    "version": 3
   },
   "file_extension": ".py",
   "mimetype": "text/x-python",
   "name": "python",
   "nbconvert_exporter": "python",
   "pygments_lexer": "ipython3",
   "version": "3.10.4"
  },
  "orig_nbformat": 4,
  "vscode": {
   "interpreter": {
    "hash": "369f2c481f4da34e4445cda3fffd2e751bd1c4d706f27375911949ba6bb62e1c"
   }
  }
 },
 "nbformat": 4,
 "nbformat_minor": 2
}
