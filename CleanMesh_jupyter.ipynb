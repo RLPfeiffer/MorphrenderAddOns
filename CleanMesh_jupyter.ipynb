{
 "cells": [
  {
   "cell_type": "code",
   "execution_count": null,
   "metadata": {},
   "outputs": [],
   "source": [
    "import sys\n",
    "!{sys.executable} -m pip install pymeshlab"
   ]
  },
  {
   "cell_type": "code",
   "execution_count": null,
   "metadata": {},
   "outputs": [],
   "source": [
    "import pymeshlab\n",
    "import os\n",
    "ms = pymeshlab.MeshSet()"
   ]
  },
  {
   "cell_type": "code",
   "execution_count": null,
   "metadata": {},
   "outputs": [],
   "source": [
    "\n",
    "importDirectory = 'D:\\Documents\\Cell_DAEs\\MorphrenderFiles\\RPC1\\RodBCs'\n",
    "exportDirectory = 'D:\\Documents\\Cell_DAEs\\MeshlabExports\\RPC1\\RodBCs'\n",
    "files=[]\n",
    " \n",
    "for filename in os.listdir(importDirectory):\n",
    "    f = os.path.join(importDirectory, filename)\n",
    "    if filename.startswith('Morphology') and filename.endswith('.dae'):\n",
    "        files.append(f)\n",
    "\n",
    "files\n"
   ]
  },
  {
   "cell_type": "code",
   "execution_count": null,
   "metadata": {},
   "outputs": [],
   "source": [
    "for f in files:\n",
    "    ms.load_new_mesh(f)\n",
    "    ms.generate_surface_reconstruction_screened_poisson(depth=10, preclean = True)\n",
    "    ms.save_current_mesh(os.path.join(exportDirectory, os.path.basename(f)))\n",
    "    if not os.path.isdir(exportDirectory):\n",
    "        os.mkdir(exportDirectory)\n"
   ]
  }
 ],
 "metadata": {
  "interpreter": {
   "hash": "04635d289a519a1410467dd0afb0db42f9184808881ca68b2eb5a687a20a5a94"
  },
  "kernelspec": {
   "display_name": "Python 3.7.6 64-bit",
   "language": "python",
   "name": "python3"
  },
  "language_info": {
   "codemirror_mode": {
    "name": "ipython",
    "version": 3
   },
   "file_extension": ".py",
   "mimetype": "text/x-python",
   "name": "python",
   "nbconvert_exporter": "python",
   "pygments_lexer": "ipython3",
   "version": "3.7.6"
  },
  "orig_nbformat": 4
 },
 "nbformat": 4,
 "nbformat_minor": 2
}
